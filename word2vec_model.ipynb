{
 "cells": [
  {
   "cell_type": "code",
   "execution_count": 1,
   "id": "a339500f",
   "metadata": {},
   "outputs": [],
   "source": [
    "import gensim\n",
    "import os\n",
    "from gensim.test.utils import datapath\n",
    "from gensim import utils\n",
    "\n",
    "class MySentences(object):\n",
    "    def __init__(self, dirname):\n",
    "        self.dirname = dirname\n",
    " \n",
    "    def __iter__(self):\n",
    "        for dirname in sorted(os.listdir(self.dirname)):\n",
    "            dirpath = os.path.join(self.dirname, dirname)\n",
    "        \n",
    "        \n",
    "            for fname in os.listdir(dirpath):\n",
    "                for line in open(os.path.join(dirpath, fname), errors='ignore'):\n",
    "                \n",
    "                    yield utils.simple_preprocess(line)\n",
    " \n"
   ]
  },
  {
   "cell_type": "code",
   "execution_count": 8,
   "id": "5f73fa6c",
   "metadata": {},
   "outputs": [
    {
     "name": "stdout",
     "output_type": "stream",
     "text": [
      "Wall time: 1d 12h 8min 11s\n"
     ]
    }
   ],
   "source": [
    "%%time\n",
    "sentences = MySentences(os.path.abspath('contracts')) # a memory-friendly iterator\n",
    "model = gensim.models.Word2Vec(sentences, workers=8, sg=1, min_count=10)"
   ]
  },
  {
   "cell_type": "code",
   "execution_count": 13,
   "id": "457c5ced",
   "metadata": {},
   "outputs": [],
   "source": [
    "model.save('word2vec.model')"
   ]
  },
  {
   "cell_type": "code",
   "execution_count": null,
   "id": "b25503b3",
   "metadata": {},
   "outputs": [],
   "source": []
  }
 ],
 "metadata": {
  "kernelspec": {
   "display_name": "NLP",
   "language": "python",
   "name": "nlp"
  },
  "language_info": {
   "codemirror_mode": {
    "name": "ipython",
    "version": 3
   },
   "file_extension": ".py",
   "mimetype": "text/x-python",
   "name": "python",
   "nbconvert_exporter": "python",
   "pygments_lexer": "ipython3",
   "version": "3.7.10"
  }
 },
 "nbformat": 4,
 "nbformat_minor": 5
}
